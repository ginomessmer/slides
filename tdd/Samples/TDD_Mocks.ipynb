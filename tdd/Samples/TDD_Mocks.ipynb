{
 "cells": [
  {
   "cell_type": "code",
   "execution_count": null,
   "source": [
    "#r \"nuget:Moq\"\r\n",
    "#r \"nuget:xUnit\"\r\n",
    "// Mock library"
   ],
   "outputs": [
    {
     "output_type": "unknown",
     "data": {
      "text/html": [
       "<div><div></div><div><strong>Installed Packages</strong><ul><li><span>castle.core, 4.4.0</span></li><li><span>Moq, 4.16.1</span></li><li><span>xUnit, 2.4.1</span></li><li><span>xunit.abstractions, 2.0.3</span></li><li><span>xunit.assert, 2.4.1</span></li><li><span>xunit.extensibility.core, 2.4.1</span></li><li><span>xunit.extensibility.execution, 2.4.1</span></li></ul></div><div></div></div>"
      ]
     }
    }
   ],
   "metadata": {
    "dotnet_interactive": {
     "language": "csharp"
    }
   }
  },
  {
   "cell_type": "markdown",
   "source": [
    "# Business Logic"
   ],
   "metadata": {}
  },
  {
   "cell_type": "code",
   "execution_count": null,
   "source": [
    "public interface IPizzaOrderService \r\n",
    "{\r\n",
    "    List<double> GetPrices(string orderId);\r\n",
    "}\r\n",
    "\r\n",
    "\r\n",
    "public class PizzaBillCalculator \r\n",
    "{\r\n",
    "    IPizzaOrderService _service;\r\n",
    "\r\n",
    "    public PizzaBillCalculator(IPizzaOrderService service) {\r\n",
    "        _service = service;\r\n",
    "    }\r\n",
    "\r\n",
    "    public double CalculateSum(string orderId)\r\n",
    "    {\r\n",
    "        var prices = _service.GetPrices(orderId);\r\n",
    "        return prices.Sum();\r\n",
    "    }\r\n",
    "}"
   ],
   "outputs": [],
   "metadata": {
    "dotnet_interactive": {
     "language": "csharp"
    }
   }
  },
  {
   "cell_type": "markdown",
   "source": [
    "# Test using Mocks"
   ],
   "metadata": {}
  },
  {
   "cell_type": "code",
   "execution_count": null,
   "source": [
    "// Arrange\r\n",
    "var orderId = \"123\";\r\n",
    "var orderServiceMock = new Mock<IPizzaOrderService>();\r\n",
    "orderServiceMock.Setup(x => x.GetPrices(orderId)).Returns(new List<double> {1, 2, 3});\r\n",
    "var calculator = new PizzaBillCalculator(orderServiceMock.Object);\r\n",
    "\r\n",
    "// Act\r\n",
    "var sum = calculator.CalculateSum(orderId);\r\n",
    "\r\n",
    "// Assert\r\n",
    "Xunit.Assert.Equal(sum, 6);"
   ],
   "outputs": [],
   "metadata": {
    "dotnet_interactive": {
     "language": "csharp"
    }
   }
  }
 ],
 "metadata": {
  "kernelspec": {
   "display_name": ".NET (C#)",
   "language": "C#",
   "name": ".net-csharp"
  },
  "language_info": {
   "name": "C#"
  }
 },
 "nbformat": 4,
 "nbformat_minor": 2
}